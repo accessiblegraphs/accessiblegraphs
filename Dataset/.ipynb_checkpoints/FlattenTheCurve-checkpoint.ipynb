{
 "cells": [
  {
   "cell_type": "markdown",
   "metadata": {},
   "source": [
    "# Generating Data for Flatten the Curve"
   ]
  },
  {
   "cell_type": "code",
   "execution_count": 3,
   "metadata": {},
   "outputs": [],
   "source": [
    "import numpy as np\n",
    "import matplotlib.pyplot as plt\n",
    "import csv\n",
    "from scipy.stats import norm"
   ]
  },
  {
   "cell_type": "markdown",
   "metadata": {},
   "source": [
    "\n",
    "## Generate and Plot Data"
   ]
  },
  {
   "cell_type": "code",
   "execution_count": 4,
   "metadata": {},
   "outputs": [],
   "source": [
    "# Constants for withMeasures \n",
    "mu_wm = 0.54\n",
    "sigma_wm = 0.25\n",
    "ub_wm = 1  #upper bound\n",
    "lb_wm = 0  #lower bound\n",
    "x_wm = np.arange(lb_wm, ub_wm, 0.01)\n",
    "y_wm = norm(mu_wm, sigma_wm)\n",
    "\n",
    "# Constants for atCapacity \n",
    "mu_ac = 0.28\n",
    "sigma_ac = 0.09\n",
    "y_ac = norm(mu_ac, sigma_ac)\n",
    "\n",
    "# Horizontal line\n",
    "x_hor = np.arange(0, 1, 0.01)\n",
    "y_hor = np.ones(len(x_hor)) * 1.65"
   ]
  },
  {
   "cell_type": "code",
   "execution_count": 5,
   "metadata": {},
   "outputs": [
    {
     "data": {
      "image/png": "[encoded data removed]",
      "text/plain": [
       "<Figure size 432x288 with 1 Axes>"
      ]
     },
     "metadata": {
      "needs_background": "light"
     },
     "output_type": "display_data"
    }
   ],
   "source": [
    "plt.plot(x_wm, y_wm.pdf(x_wm))\n",
    "plt.plot(x_wm, y_ac.pdf(x_wm))\n",
    "# plt.hlines(1.65, 0, 1, 'k', 'dashed')\n",
    "plt.plot(x_hor, y_hor,\"--\")\n",
    "plt.show()"
   ]
  },
  {
   "cell_type": "code",
   "execution_count": 7,
   "metadata": {},
   "outputs": [],
   "source": [
    "import plotly.express as px\n",
    "import plotly.graph_objects as go\n",
    "from plotly.offline import plot"
   ]
  },
  {
   "cell_type": "code",
   "execution_count": 15,
   "metadata": {},
   "outputs": [
    {
     "ename": "SyntaxError",
     "evalue": "keyword argument repeated (<ipython-input-15-b81444b8dbdb>, line 26)",
     "output_type": "error",
     "traceback": [
      "\u001b[0;36m  File \u001b[0;32m\"<ipython-input-15-b81444b8dbdb>\"\u001b[0;36m, line \u001b[0;32m26\u001b[0m\n\u001b[0;31m    legend=dict(x=-.1, y=-0.2),\u001b[0m\n\u001b[0m    ^\u001b[0m\n\u001b[0;31mSyntaxError\u001b[0m\u001b[0;31m:\u001b[0m keyword argument repeated\n"
     ]
    }
   ],
   "source": [
    "fig = go.Figure()\n",
    "\n",
    "plt.plot(x_wm, y_wm.pdf(x_wm))\n",
    "plt.plot(x_wm, y_ac.pdf(x_wm))\n",
    "# plt.hlines(1.65, 0, 1, 'k', 'dashed')\n",
    "plt.plot(x_hor, y_hor,\"--\")\n",
    "\n",
    "\n",
    "fig.add_trace(go.Scatter(x=x_wm, y=y_wm.pdf(x_wm),\n",
    "                      line=dict(color='red', width=4, dash='solid')))\n",
    "fig.add_trace(go.Scatter(x=x_wm, y=y_ac.pdf(x_wm),\n",
    "                      line=dict(color='green', width=4, dash='solid')))\n",
    "fig.add_trace(go.Scatter(x=x_hor, y=y_hor,\n",
    "                      line=dict(color='blue', width=4, dash='longdash')))\n",
    "# Plot layout settings\n",
    "fig.update_layout(\n",
    "    title='Flatten the Curve',\n",
    "    title_x=0.5,\n",
    "#     xaxis_title = 'Date',\n",
    "#     yaxis_title = 'Confirmed Covid-19 Cases',\n",
    "    font = dict(size = 20),\n",
    "    height=1000,\n",
    "    paper_bgcolor='rgba(0,0,0,0)',\n",
    "    plot_bgcolor='rgba(0,0,0,0)',\n",
    "    legend = False,\n",
    "    legend=dict(x=-.1, y=-0.2),\n",
    "    bargap=0.01, # gap between bars of adjacent location coordinates.\n",
    "    bargroupgap=0, # gap between bars of the same location coordinate.\n",
    "    margin=dict(r=10)\n",
    "    )\n",
    "\n",
    "# grid on, number format to digits\n",
    "fig.update_yaxes(visible = False, showgrid = False)\n",
    "fig.update_xaxes(visible = False, showgrid = False)\n",
    "\n",
    "# save to jpg\n",
    "# fig.write_image(\"../Images_Plotly/FlattenTheCurve.png\",width=1200, height=800, scale=2)"
   ]
  },
  {
   "cell_type": "markdown",
   "metadata": {},
   "source": [
    "## Export Data"
   ]
  },
  {
   "cell_type": "code",
   "execution_count": 248,
   "metadata": {},
   "outputs": [],
   "source": [
    "filename = 'flattenTheCurve.csv'\n",
    "# rows = zip(x_wm, y_wm.pdf(x_wm), y_ac.pdf(x_wm), y_hor)\n",
    "\n",
    "with open(filename, \"w\") as f:\n",
    "    writer = csv.writer(f)\n",
    "    writer.writerow([\"x\", \"Condition\", \"y\"])\n",
    "    for i in range(0, len(x_wm)):\n",
    "        writer.writerow([x_wm[i], \"With measures\",  y_wm.pdf(x_wm[i])])\n",
    "        writer.writerow([x_wm[i], \"Without measures\",  y_ac.pdf(x_wm[i])])\n",
    "        writer.writerow([x_wm[i], \"Capacity Level\", y_hor[i]])"
   ]
  },
  {
   "cell_type": "code",
   "execution_count": null,
   "metadata": {},
   "outputs": [],
   "source": []
  }
 ],
 "metadata": {
  "kernelspec": {
   "display_name": "Python 3",
   "language": "python",
   "name": "python3"
  },
  "language_info": {
   "codemirror_mode": {
    "name": "ipython",
    "version": 3
   },
   "file_extension": ".py",
   "mimetype": "text/x-python",
   "name": "python",
   "nbconvert_exporter": "python",
   "pygments_lexer": "ipython3",
   "version": "3.7.4"
  }
 },
 "nbformat": 4,
 "nbformat_minor": 2
}
