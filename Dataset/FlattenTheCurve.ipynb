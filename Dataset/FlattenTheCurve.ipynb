{
 "cells": [
  {
   "cell_type": "markdown",
   "metadata": {},
   "source": [
    "# Generating Data for Flatten the Curve"
   ]
  },
  {
   "cell_type": "code",
   "execution_count": 70,
   "metadata": {},
   "outputs": [],
   "source": [
    "import numpy as np\n",
    "import matplotlib.pyplot as plt\n",
    "import csv\n",
    "from scipy.stats import norm"
   ]
  },
  {
   "cell_type": "markdown",
   "metadata": {},
   "source": [
    "\n",
    "## Generate and Plot Data"
   ]
  },
  {
   "cell_type": "code",
   "execution_count": 216,
   "metadata": {},
   "outputs": [],
   "source": [
    "# Constants for withMeasures \n",
    "mu_wm = 0.54\n",
    "sigma_wm = 0.25\n",
    "ub_wm = 1  #upper bound\n",
    "lb_wm = 0  #lower bound\n",
    "x_wm = np.arange(lb_wm, ub_wm, 0.01)\n",
    "y_wm = norm(mu_wm, sigma_wm)\n",
    "\n",
    "# Constants for atCapacity \n",
    "mu_ac = 0.28\n",
    "sigma_ac = 0.09\n",
    "y_ac = norm(mu_ac, sigma_ac)\n",
    "\n",
    "# Horizontal line\n",
    "x_hor = np.arange(0, 1, 0.01)\n",
    "y_hor = np.ones(len(x_hor)) * 1.65"
   ]
  },
  {
   "cell_type": "code",
   "execution_count": 215,
   "metadata": {},
   "outputs": [
    {
     "data": {
      "image/png": "[encoded data removed]",
      "text/plain": [
       "<Figure size 432x288 with 1 Axes>"
      ]
     },
     "metadata": {},
     "output_type": "display_data"
    }
   ],
   "source": [
    "plt.plot(x_wm, y_wm.pdf(x_wm))\n",
    "plt.plot(x_wm, y_ac.pdf(x_wm))\n",
    "# plt.hlines(1.65, 0, 1, 'k', 'dashed')\n",
    "plt.plot(x_hor, y_hor,\"--\")\n",
    "plt.show()"
   ]
  },
  {
   "cell_type": "markdown",
   "metadata": {},
   "source": [
    "## Export Data"
   ]
  },
  {
   "cell_type": "code",
   "execution_count": 214,
   "metadata": {},
   "outputs": [],
   "source": [
    "filename = 'flattenTheCurve.csv'\n",
    "rows = zip(x_wm, y_wm.pdf(x_wm), x_wm, y_ac.pdf(x_wm), x_hor, y_hor)\n",
    "\n",
    "with open(filename, \"w\") as f:\n",
    "    writer = csv.writer(f)\n",
    "    for row in rows:\n",
    "        writer.writerow(row)"
   ]
  },
  {
   "cell_type": "code",
   "execution_count": null,
   "metadata": {},
   "outputs": [],
   "source": []
  }
 ],
 "metadata": {
  "kernelspec": {
   "display_name": "Python 3",
   "language": "python",
   "name": "python3"
  },
  "language_info": {
   "codemirror_mode": {
    "name": "ipython",
    "version": 3
   },
   "file_extension": ".py",
   "mimetype": "text/x-python",
   "name": "python",
   "nbconvert_exporter": "python",
   "pygments_lexer": "ipython3",
   "version": "3.7.4"
  }
 },
 "nbformat": 4,
 "nbformat_minor": 2
}
